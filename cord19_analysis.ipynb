# CORD-19 Data Analysis
# Author: [Your Name]
# Date: 2025-09-19
# Description: Basic analysis and visualizations of CORD-19 metadata dataset

# ================================
# Part 1: Import Libraries
# ================================
import pandas as pd
import matplotlib.pyplot as plt
import seaborn as sns
from wordcloud import WordCloud

# ================================
# Part 2: Load and Explore Data
# ================================
df = pd.read_csv("metadata.csv", low_memory=False)

print("Shape of dataset:", df.shape)
print(df.info())
print("Missing values:\n", df.isnull().sum().head(20))

# ================================
# Part 3: Data Cleaning
# ================================
# Keep only important columns
df = df[['title', 'abstract', 'publish_time', 'journal', 'authors', 'source_x']]

# Handle missing values
df['title'] = df['title'].fillna("No Title")
df['abstract'] = df['abstract'].fillna("No Abstract")
df['journal'] = df['journal'].fillna("Unknown Journal")
df['publish_time'] = pd.to_datetime(df['publish_time'], errors='coerce')
df = df.dropna(subset=['publish_time'])  # remove rows without valid date

# Extract year
df['year'] = df['publish_time'].dt.year

# Add abstract word count
df['abstract_word_count'] = df['abstract'].apply(lambda x: len(str(x).split()))

# ================================
# Part 4: Analysis
# ================================

# 1. Count papers by year
year_counts = df['year'].value_counts().sort_index()
print(year_counts)

# 2. Top journals
top_journals = df['journal'].value_counts().head(10)
print(top_journals)

# 3. Most frequent words in titles
all_titles = " ".join(df['title'].astype(str))
wordcloud = WordCloud(width=800, height=400, background_color="white").generate(all_titles)

# ================================
# Part 5: Visualizations
# ================================
plt.figure(figsize=(8,5))
year_counts.plot(kind="bar", color="skyblue")
plt.title("Publications by Year")
plt.xlabel("Year")
plt.ylabel("Number of Papers")
plt.show()

plt.figure(figsize=(8,5))
top_journals.plot(kind="bar", color="orange")
plt.title("Top Journals Publishing COVID-19 Research")
plt.xlabel("Journal")
plt.ylabel("Count")
plt.show()

plt.figure(figsize=(10,6))
plt.imshow(wordcloud, interpolation="bilinear")
plt.axis("off")
plt.title("Most Frequent Words in Titles", fontsize=14)
plt.show()

plt.figure(figsize=(8,5))
df['source_x'].value_counts().head(10).plot(kind="bar", color="green")
plt.title("Top Sources")
plt.xlabel("Source")
plt.ylabel("Count")
plt.show()
